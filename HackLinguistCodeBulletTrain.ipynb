{
  "cells": [
    {
      "cell_type": "markdown",
      "metadata": {
        "id": "view-in-github",
        "colab_type": "text"
      },
      "source": [
        "<a href=\"https://colab.research.google.com/github/Sam-Fmb/GL-ADSP-Sept-2022-23/blob/main/HackLinguistCodeBulletTrain.ipynb\" target=\"_parent\"><img src=\"https://colab.research.google.com/assets/colab-badge.svg\" alt=\"Open In Colab\"/></a>"
      ]
    },
    {
      "cell_type": "markdown",
      "metadata": {
        "id": "yY-ybxSHhstU"
      },
      "source": [
        "##Load and Clean Data\n"
      ]
    },
    {
      "cell_type": "code",
      "execution_count": 31,
      "metadata": {
        "colab": {
          "base_uri": "https://localhost:8080/"
        },
        "id": "oBtEQaWnq5wH",
        "outputId": "f8fd093d-4894-4f0e-fbeb-dd82ced58eb9"
      },
      "outputs": [
        {
          "output_type": "stream",
          "name": "stdout",
          "text": [
            "Drive already mounted at /content/drive; to attempt to forcibly remount, call drive.mount(\"/content/drive\", force_remount=True).\n"
          ]
        }
      ],
      "source": [
        "from google.colab import drive\n",
        "drive.mount('/content/drive')"
      ]
    },
    {
      "cell_type": "code",
      "execution_count": 32,
      "metadata": {
        "id": "pSoBwZY9aw0C"
      },
      "outputs": [],
      "source": [
        "## DUMPZONE FOR ALL PACKAGES UTILITES USED - NOT CURATED OR DUPLICATES DELETED.\n",
        "\n",
        "from numpy import mean\n",
        "from numpy import std\n",
        "from sklearn.datasets import make_classification\n",
        "from sklearn.model_selection import cross_val_score\n",
        "from sklearn.model_selection import RepeatedStratifiedKFold\n",
        "from sklearn.ensemble import RandomForestClassifier\n",
        "\n",
        "import pandas as pd\n",
        "from sklearn.preprocessing import LabelEncoder, OneHotEncoder\n",
        "from sklearn.model_selection import train_test_split, KFold, cross_val_score\n",
        "from sklearn.metrics import accuracy_score\n",
        "\n",
        "import xgboost as xgb\n",
        "#load data\n",
        "from sklearn.ensemble import RandomForestRegressor\n",
        "from sklearn.model_selection import train_test_split\n",
        "import numpy as np\n",
        "import pandas as pd\n",
        "\n",
        "import matplotlib.pyplot as plt\n",
        "%matplotlib inline\n",
        "import seaborn as sns\n",
        "\n",
        "import copy\n",
        "from sklearn.impute import KNNImputer\n",
        "\n",
        "from sklearn.neighbors import KNeighborsClassifier\n",
        "\n",
        "from scipy.stats import chisquare\n",
        "from sklearn.experimental import enable_halving_search_cv \n",
        "from sklearn.model_selection import HalvingGridSearchCV\n",
        "# Load sklearn libraries for machine learning\n",
        "from sklearn.impute import SimpleImputer\n",
        "from sklearn import preprocessing\n",
        "\n",
        "from sklearn.ensemble import RandomForestClassifier\n",
        "from sklearn.datasets import make_classification\n",
        "\n",
        "# evaluate random forest algorithm for classification\n",
        "from numpy import mean\n",
        "from numpy import std\n",
        "from sklearn.datasets import make_classification\n",
        "from sklearn.model_selection import cross_val_score\n",
        "from sklearn.model_selection import RepeatedStratifiedKFold\n",
        "from sklearn.ensemble import RandomForestClassifier\n",
        "\n",
        "import numpy as np\n",
        "import pandas as pd\n",
        "import matplotlib.pyplot as plt\n",
        "import seaborn as sns\n",
        "from imblearn.over_sampling import SMOTE\n",
        "from sklearn.model_selection import train_test_split\n",
        "from sklearn.tree import DecisionTreeClassifier\n",
        "from sklearn.ensemble import BaggingClassifier\n",
        "from sklearn.metrics import accuracy_score, classification_report, confusion_matrix, f1_score\n",
        "from sklearn.ensemble import RandomForestClassifier\n",
        "from sklearn.ensemble import GradientBoostingClassifier\n",
        "from sklearn.naive_bayes import GaussianNB\n",
        "from sklearn.linear_model import LogisticRegression\n",
        "from sklearn.model_selection import GridSearchCV\n",
        "from sklearn.ensemble import VotingClassifier\n",
        "from sklearn.ensemble import AdaBoostClassifier\n",
        "from sklearn.svm import SVC\n",
        "\n",
        "import warnings\n",
        "warnings.filterwarnings(\"ignore\")"
      ]
    },
    {
      "cell_type": "code",
      "execution_count": 33,
      "metadata": {
        "id": "IYn49QaXb1YO"
      },
      "outputs": [],
      "source": [
        "# Upload Data Sets\n",
        "t_train = pd.read_csv(\"/content/drive/MyDrive/GL Hackerthon/Traveldata_train_(1).csv\")\n",
        "s_train = pd.read_csv(\"/content/drive/MyDrive/GL Hackerthon/Surveydata_train_(1).csv\")\n",
        "t_test = pd.read_csv(\"/content/drive/MyDrive/GL Hackerthon/Traveldata_test_(1).csv\")\n",
        "s_test = pd.read_csv(\"/content/drive/MyDrive/GL Hackerthon/Surveydata_test_(1).csv\")"
      ]
    },
    {
      "cell_type": "code",
      "execution_count": 34,
      "metadata": {
        "colab": {
          "base_uri": "https://localhost:8080/"
        },
        "id": "EVgJ6Od9a_n9",
        "outputId": "09825c50-4c6f-4600-9e5b-49e0290b5347"
      },
      "outputs": [
        {
          "output_type": "execute_result",
          "data": {
            "text/plain": [
              "(94379, 24)"
            ]
          },
          "metadata": {},
          "execution_count": 34
        }
      ],
      "source": [
        "#Merge Data\n",
        "df_train1 = pd.merge(t_train, s_train, how = 'left', on ='ID')\n",
        "df_train1 = df_train1.set_index('ID')\n",
        "df_train1.shape"
      ]
    },
    {
      "cell_type": "code",
      "execution_count": 35,
      "metadata": {
        "colab": {
          "base_uri": "https://localhost:8080/"
        },
        "id": "pB5R4HIRcTtx",
        "outputId": "1a60b6d0-e9e5-4b9e-a914-f2a07655d2d7"
      },
      "outputs": [
        {
          "output_type": "execute_result",
          "data": {
            "text/plain": [
              "(35602, 23)"
            ]
          },
          "metadata": {},
          "execution_count": 35
        }
      ],
      "source": [
        "df_test = pd.merge(t_test,s_test, how = 'left', on ='ID')\n",
        "df_test = df_test.set_index('ID')\n",
        "df_test.shape"
      ]
    },
    {
      "cell_type": "code",
      "execution_count": 36,
      "metadata": {
        "id": "9Cg5lKOQ_GVu"
      },
      "outputs": [],
      "source": [
        "#needed as troubleshooting i renamed set and use both df_train and df_train1 interchangably here in\n",
        "\n",
        "df_train = df_train1\n"
      ]
    },
    {
      "cell_type": "code",
      "execution_count": 37,
      "metadata": {
        "id": "RyO2PNnShFJN"
      },
      "outputs": [],
      "source": [
        "#convert all text variables to numerical\n",
        "\n",
        "#TEST\n",
        "\n",
        "df = df_test\n",
        "df = df.replace(['Excellent', 'Good', 'Acceptable', 'Needs Improvement', 'Poor', 'Extremely Poor'], \n",
        "           [6, 5, 4, 3, 2, 1])\n",
        "df = df.replace(['Male', 'Female'], [1,0])\n",
        "df = df.replace(['Loyal Customer', 'Disloyal Customer'], [1,0])\n",
        "df = df.replace(['Business Travel', 'Personal Travel'], [1,0])\n",
        "df = df.replace(['Business', 'Eco'], [1,0])\n",
        "df = df.replace(['Green Car', 'Ordinary'], [1,0])\n",
        "df = df.replace(['Very Convenient', 'Convenient', 'Manageable', 'Needs Improvement', 'Inconvenient', 'Very Inconvenient'], \n",
        "           [6, 5, 4, 3, 2, 1])\n",
        "df_test = df\n",
        "\n",
        "\n"
      ]
    },
    {
      "cell_type": "code",
      "execution_count": 38,
      "metadata": {
        "id": "Mj8ppx36hFHJ"
      },
      "outputs": [],
      "source": [
        "#Train\n",
        "df = df_train\n",
        "df = df.replace(['Excellent', 'Good', 'Acceptable', 'Needs Improvement', 'Poor', 'Extremely Poor'], \n",
        "           [6, 5, 4, 3, 2, 1])\n",
        "df = df.replace(['Male', 'Female'], [1,0])\n",
        "df = df.replace(['Loyal Customer', 'Disloyal Customer'], [1,0])\n",
        "df = df.replace(['Business Travel', 'Personal Travel'], [1,0])\n",
        "df = df.replace(['Business', 'Eco'], [1,0])\n",
        "df = df.replace(['Green Car', 'Ordinary'], [1,0])\n",
        "df = df.replace(['Very Convenient', 'Convenient', 'Manageable', 'Needs Improvement', 'Inconvenient', 'Very Inconvenient'], \n",
        "           [6, 5, 4, 3, 2, 1])\n",
        "df_train = df"
      ]
    },
    {
      "cell_type": "code",
      "execution_count": 39,
      "metadata": {
        "id": "RJ5-80F2hE8s"
      },
      "outputs": [],
      "source": [
        "#fill in NaN values with KNN\n",
        "\n",
        "imputer2 = KNNImputer(n_neighbors=5)\n",
        "imputer2.fit(df_test)\n",
        "Test = imputer2.transform(df_test)"
      ]
    },
    {
      "cell_type": "code",
      "execution_count": 40,
      "metadata": {
        "colab": {
          "base_uri": "https://localhost:8080/"
        },
        "id": "zGELpFRLhE6l",
        "outputId": "af644eb5-cc38-47c0-8b61-20f8241938f9"
      },
      "outputs": [
        {
          "output_type": "execute_result",
          "data": {
            "text/plain": [
              "Gender                     0\n",
              "Customer_Type              0\n",
              "Age                        0\n",
              "Type_Travel                0\n",
              "Travel_Class               0\n",
              "Travel_Distance            0\n",
              "Departure_Delay_in_Mins    0\n",
              "Arrival_Delay_in_Mins      0\n",
              "Seat_Comfort               0\n",
              "Seat_Class                 0\n",
              "Arrival_Time_Convenient    0\n",
              "Catering                   0\n",
              "Platform_Location          0\n",
              "Onboard_Wifi_Service       0\n",
              "Onboard_Entertainment      0\n",
              "Online_Support             0\n",
              "Ease_of_Online_Booking     0\n",
              "Onboard_Service            0\n",
              "Legroom                    0\n",
              "Baggage_Handling           0\n",
              "CheckIn_Service            0\n",
              "Cleanliness                0\n",
              "Online_Boarding            0\n",
              "dtype: int64"
            ]
          },
          "metadata": {},
          "execution_count": 40
        }
      ],
      "source": [
        "Test_df = pd.DataFrame(Test, columns = df_test.columns, index = df_test.index)\n",
        "Test_df.isna().sum()"
      ]
    },
    {
      "cell_type": "code",
      "execution_count": 41,
      "metadata": {
        "colab": {
          "base_uri": "https://localhost:8080/"
        },
        "id": "gVMlQekWgmoC",
        "outputId": "1f8c3ca5-3318-435e-d0b4-d575e2029020"
      },
      "outputs": [
        {
          "output_type": "stream",
          "name": "stdout",
          "text": [
            "<class 'pandas.core.frame.DataFrame'>\n",
            "Int64Index: 94379 entries, 98800001 to 98894379\n",
            "Data columns (total 24 columns):\n",
            " #   Column                   Non-Null Count  Dtype  \n",
            "---  ------                   --------------  -----  \n",
            " 0   Gender                   94302 non-null  float64\n",
            " 1   Customer_Type            85428 non-null  float64\n",
            " 2   Age                      94346 non-null  float64\n",
            " 3   Type_Travel              85153 non-null  float64\n",
            " 4   Travel_Class             94379 non-null  int64  \n",
            " 5   Travel_Distance          94379 non-null  int64  \n",
            " 6   Departure_Delay_in_Mins  94322 non-null  float64\n",
            " 7   Arrival_Delay_in_Mins    94022 non-null  float64\n",
            " 8   Overall_Experience       94379 non-null  int64  \n",
            " 9   Seat_Comfort             94318 non-null  float64\n",
            " 10  Seat_Class               94379 non-null  int64  \n",
            " 11  Arrival_Time_Convenient  85449 non-null  float64\n",
            " 12  Catering                 85638 non-null  float64\n",
            " 13  Platform_Location        94349 non-null  float64\n",
            " 14  Onboard_Wifi_Service     94349 non-null  float64\n",
            " 15  Onboard_Entertainment    94361 non-null  float64\n",
            " 16  Online_Support           94288 non-null  float64\n",
            " 17  Ease_of_Online_Booking   94306 non-null  float64\n",
            " 18  Onboard_Service          86778 non-null  float64\n",
            " 19  Legroom                  94289 non-null  float64\n",
            " 20  Baggage_Handling         94237 non-null  float64\n",
            " 21  CheckIn_Service          94302 non-null  float64\n",
            " 22  Cleanliness              94373 non-null  float64\n",
            " 23  Online_Boarding          94373 non-null  float64\n",
            "dtypes: float64(20), int64(4)\n",
            "memory usage: 18.0 MB\n"
          ]
        }
      ],
      "source": [
        "#Check for null\n",
        "df_train.info()"
      ]
    },
    {
      "cell_type": "code",
      "execution_count": 42,
      "metadata": {
        "id": "7uQL3VmArvdU"
      },
      "outputs": [],
      "source": [
        "\n",
        "imputer = KNNImputer(n_neighbors=5)\n",
        "imputer.fit(df_train)\n",
        "Train = imputer.transform(df_train)"
      ]
    },
    {
      "cell_type": "code",
      "execution_count": 43,
      "metadata": {
        "colab": {
          "base_uri": "https://localhost:8080/"
        },
        "id": "N0gIEc2PrvbP",
        "outputId": "f0e5191d-8d52-4558-90cf-3f579f1ffe24"
      },
      "outputs": [
        {
          "output_type": "execute_result",
          "data": {
            "text/plain": [
              "Gender                     0\n",
              "Customer_Type              0\n",
              "Age                        0\n",
              "Type_Travel                0\n",
              "Travel_Class               0\n",
              "Travel_Distance            0\n",
              "Departure_Delay_in_Mins    0\n",
              "Arrival_Delay_in_Mins      0\n",
              "Overall_Experience         0\n",
              "Seat_Comfort               0\n",
              "Seat_Class                 0\n",
              "Arrival_Time_Convenient    0\n",
              "Catering                   0\n",
              "Platform_Location          0\n",
              "Onboard_Wifi_Service       0\n",
              "Onboard_Entertainment      0\n",
              "Online_Support             0\n",
              "Ease_of_Online_Booking     0\n",
              "Onboard_Service            0\n",
              "Legroom                    0\n",
              "Baggage_Handling           0\n",
              "CheckIn_Service            0\n",
              "Cleanliness                0\n",
              "Online_Boarding            0\n",
              "dtype: int64"
            ]
          },
          "metadata": {},
          "execution_count": 43
        }
      ],
      "source": [
        "Train_df = pd.DataFrame(Train, columns = df_train.columns, index = df_train.index)\n",
        "Train_df.isna().sum()"
      ]
    },
    {
      "cell_type": "markdown",
      "metadata": {
        "id": "F_vXt7QQiEkN"
      },
      "source": [
        "##Format Datat sets for model building"
      ]
    },
    {
      "cell_type": "code",
      "execution_count": 44,
      "metadata": {
        "id": "m3OCj9RW7lMS"
      },
      "outputs": [],
      "source": [
        "#split labels and varibles \n",
        "x =Train_df.drop(['Overall_Experience'], axis = 1)\n",
        "y = Train_df['Overall_Experience']\n",
        "\n"
      ]
    },
    {
      "cell_type": "code",
      "execution_count": 45,
      "metadata": {
        "id": "fCpzqK4ZiYnQ"
      },
      "outputs": [],
      "source": [
        "#create train/test sets\n",
        "\n",
        "x_train, x_test, y_train, y_test = train_test_split(x, y)\n",
        "\n",
        "train_features = x_train\n",
        "train_labels = y_train\n",
        "test_features = x_test\n",
        "test_labels = y_test"
      ]
    },
    {
      "cell_type": "markdown",
      "metadata": {
        "id": "cvnq_H2jie9B"
      },
      "source": [
        "##Model Building\n",
        "\n",
        "Previous exploratory models demonstrated that gradient boosting was more effective than random forrest, ths we use xgb herein"
      ]
    },
    {
      "cell_type": "markdown",
      "source": [
        "##Hyper parameter tuning"
      ],
      "metadata": {
        "id": "QH0T2Lg2Tl2D"
      }
    },
    {
      "cell_type": "code",
      "source": [
        "param_grid = {\n",
        "        'bootstrap': [True],\n",
        "    'max_depth': [250, 500, 1000],\n",
        "    'max_features': ['auto', 'sqrt'],\n",
        "    'min_samples_leaf': [1, 2, 4],\n",
        "    'min_samples_split': [5, 10, 20],\n",
        "    'n_estimators': [100, 200, 400, 800]\n",
        "}\n",
        "# Grid Search CV implementation\n",
        "xgb_cl = xgb.XGBClassifier(objective=\"binary:logistic\") \n",
        "halving_cv1 = HalvingGridSearchCV(xgb_cl, param_grid, scoring=\"roc_auc\", n_jobs=-1, min_resources=\"exhaust\", factor=5, verbose = 2) #halvingGrid search significently reduces time needed to runwith minnimal effect on precision/accuracy\n",
        "halving_cv1.fit(x, y)"
      ],
      "metadata": {
        "colab": {
          "base_uri": "https://localhost:8080/"
        },
        "id": "zbbr8QqGTk9N",
        "outputId": "1a0872ab-3d2b-4bf5-a649-ad4ea6a2ab56"
      },
      "execution_count": 24,
      "outputs": [
        {
          "output_type": "stream",
          "name": "stdout",
          "text": [
            "n_iterations: 4\n",
            "n_required_iterations: 4\n",
            "n_possible_iterations: 4\n",
            "min_resources_: 755\n",
            "max_resources_: 94379\n",
            "aggressive_elimination: False\n",
            "factor: 5\n",
            "----------\n",
            "iter: 0\n",
            "n_candidates: 216\n",
            "n_resources: 755\n",
            "Fitting 5 folds for each of 216 candidates, totalling 1080 fits\n",
            "----------\n",
            "iter: 1\n",
            "n_candidates: 44\n",
            "n_resources: 3775\n",
            "Fitting 5 folds for each of 44 candidates, totalling 220 fits\n",
            "----------\n",
            "iter: 2\n",
            "n_candidates: 9\n",
            "n_resources: 18875\n",
            "Fitting 5 folds for each of 9 candidates, totalling 45 fits\n",
            "----------\n",
            "iter: 3\n",
            "n_candidates: 2\n",
            "n_resources: 94375\n",
            "Fitting 5 folds for each of 2 candidates, totalling 10 fits\n"
          ]
        },
        {
          "output_type": "execute_result",
          "data": {
            "text/plain": [
              "HalvingGridSearchCV(estimator=XGBClassifier(), factor=5, n_jobs=-1,\n",
              "                    param_grid={'bootstrap': [True],\n",
              "                                'max_depth': [250, 500, 1000],\n",
              "                                'max_features': ['auto', 'sqrt'],\n",
              "                                'min_samples_leaf': [1, 2, 4],\n",
              "                                'min_samples_split': [5, 10, 20],\n",
              "                                'n_estimators': [100, 200, 400, 800]},\n",
              "                    scoring='roc_auc', verbose=2)"
            ]
          },
          "metadata": {},
          "execution_count": 24
        }
      ]
    },
    {
      "cell_type": "code",
      "source": [
        "halving_cv1.best_score_"
      ],
      "metadata": {
        "colab": {
          "base_uri": "https://localhost:8080/"
        },
        "id": "T9-3B7lSABfT",
        "outputId": "8e681879-0a7e-4fae-c88c-ae1aada9eb7a"
      },
      "execution_count": 25,
      "outputs": [
        {
          "output_type": "execute_result",
          "data": {
            "text/plain": [
              "0.9934044460553004"
            ]
          },
          "metadata": {},
          "execution_count": 25
        }
      ]
    },
    {
      "cell_type": "code",
      "source": [
        "halving_cv.best_params_\n"
      ],
      "metadata": {
        "colab": {
          "base_uri": "https://localhost:8080/"
        },
        "id": "3EnSIj5zABPJ",
        "outputId": "5d43ee4d-fbde-4e81-fc32-ddb5ef4c5bd5"
      },
      "execution_count": 26,
      "outputs": [
        {
          "output_type": "execute_result",
          "data": {
            "text/plain": [
              "{'bootstrap': True,\n",
              " 'max_depth': 500,\n",
              " 'max_features': 'sqrt',\n",
              " 'min_samples_leaf': 2,\n",
              " 'min_samples_split': 10,\n",
              " 'n_estimators': 400}"
            ]
          },
          "metadata": {},
          "execution_count": 26
        }
      ]
    },
    {
      "cell_type": "markdown",
      "metadata": {
        "id": "T4Xe-E8MP24d"
      },
      "source": [
        "##BEST"
      ]
    },
    {
      "cell_type": "code",
      "execution_count": 16,
      "metadata": {
        "colab": {
          "base_uri": "https://localhost:8080/"
        },
        "id": "RWDPleanCei1",
        "outputId": "f63df704-7440-4b11-e096-cfe4e6eff278"
      },
      "outputs": [
        {
          "output_type": "stream",
          "name": "stdout",
          "text": [
            "n_iterations: 1\n",
            "n_required_iterations: 1\n",
            "n_possible_iterations: 1\n",
            "min_resources_: 94379\n",
            "max_resources_: 94379\n",
            "aggressive_elimination: False\n",
            "factor: 5\n",
            "----------\n",
            "iter: 0\n",
            "n_candidates: 1\n",
            "n_resources: 94379\n",
            "Fitting 5 folds for each of 1 candidates, totalling 5 fits\n"
          ]
        },
        {
          "output_type": "execute_result",
          "data": {
            "text/plain": [
              "HalvingGridSearchCV(estimator=XGBClassifier(), factor=5, n_jobs=-1,\n",
              "                    param_grid={'bootstrap': [True], 'max_depth': [500],\n",
              "                                'max_features': ['sqrt'],\n",
              "                                'min_samples_leaf': [2],\n",
              "                                'min_samples_split': [10],\n",
              "                                'n_estimators': [400]},\n",
              "                    scoring='roc_auc', verbose=2)"
            ]
          },
          "metadata": {},
          "execution_count": 16
        }
      ],
      "source": [
        "param_grid = {\n",
        "        'bootstrap': [True],\n",
        "    'max_depth': [500],\n",
        "    'max_features': ['sqrt'],\n",
        "    'min_samples_leaf': [2],\n",
        "    'min_samples_split': [10],\n",
        "    'n_estimators': [400]\n",
        "}\n",
        "# Grid Search CV implementation\n",
        "xgb_cl = xgb.XGBClassifier(objective=\"binary:logistic\")\n",
        "halving_cv = HalvingGridSearchCV(xgb_cl, param_grid, scoring=\"roc_auc\", n_jobs=-1, min_resources=\"exhaust\", factor=5, verbose = 2)\n",
        "halving_cv.fit(x, y)\n"
      ]
    },
    {
      "cell_type": "code",
      "execution_count": null,
      "metadata": {
        "colab": {
          "base_uri": "https://localhost:8080/"
        },
        "id": "jkCqGSV9jFev",
        "outputId": "5b3397d0-e6dd-4430-d4b6-3e48544d51ff"
      },
      "outputs": [
        {
          "output_type": "execute_result",
          "data": {
            "text/plain": [
              "0.993620415643307"
            ]
          },
          "metadata": {},
          "execution_count": 19
        }
      ],
      "source": [
        "halving_cv.best_score_"
      ]
    },
    {
      "cell_type": "code",
      "execution_count": null,
      "metadata": {
        "id": "amY_k13XQO3a"
      },
      "outputs": [],
      "source": []
    },
    {
      "cell_type": "markdown",
      "metadata": {
        "id": "vb6ACgXfP7V8"
      },
      "source": [
        "##Possible Tuning Options, very Time Consuming!"
      ]
    },
    {
      "cell_type": "code",
      "source": [
        "# Re-names needed for code to run\n",
        "\n",
        "X_test = x_test\n",
        "X_train = x_train\n",
        "Y_test = y_test\n",
        "Y_train = x_train\n"
      ],
      "metadata": {
        "id": "J8c8n6_ST0BE"
      },
      "execution_count": 46,
      "outputs": []
    },
    {
      "cell_type": "code",
      "execution_count": 47,
      "metadata": {
        "id": "XdsldyIAt0ak",
        "colab": {
          "base_uri": "https://localhost:8080/",
          "height": 52
        },
        "outputId": "ccfe15c9-4a57-41b0-b77d-509db0a45fa7"
      },
      "outputs": [
        {
          "output_type": "display_data",
          "data": {
            "text/plain": [
              "0.996496383363472"
            ]
          },
          "metadata": {}
        },
        {
          "output_type": "display_data",
          "data": {
            "text/plain": [
              "0.9521508794236067"
            ]
          },
          "metadata": {}
        }
      ],
      "source": [
        "rf = RandomForestClassifier(n_estimators=230, max_depth= 20, max_features= 15, random_state = 100)\n",
        "rf.fit(x_train , y_train)\n",
        "y_predict = rf.predict(x_train)\n",
        "display(accuracy_score(y_train, y_predict))\n",
        "\n",
        "y_predict_test = rf.predict(x_test)\n",
        "display(accuracy_score(y_test, y_predict_test))"
      ]
    },
    {
      "cell_type": "code",
      "execution_count": null,
      "metadata": {
        "id": "UIBvJg-_t0YT"
      },
      "outputs": [],
      "source": []
    },
    {
      "cell_type": "code",
      "execution_count": null,
      "metadata": {
        "id": "Odp5J82r-cgk"
      },
      "outputs": [],
      "source": [
        "clt = SVC(gamma = 0.25, C = 2)\n",
        "clt.fit(X_train , Y_train)\n",
        "y_predict = clt.predict(X_train)\n",
        "display(accuracy_score(Y_train, y_predict))\n",
        "\n",
        "y_predict_test = clt.predict(X_test)\n",
        "display(accuracy_score(Y_test, y_predict_test))"
      ]
    },
    {
      "cell_type": "code",
      "execution_count": null,
      "metadata": {
        "id": "mwJVJh8r-ceM"
      },
      "outputs": [],
      "source": []
    },
    {
      "cell_type": "code",
      "execution_count": null,
      "metadata": {
        "id": "bVKLuWop-cb7"
      },
      "outputs": [],
      "source": [
        "param_grid = {\n",
        "    'n_estimators': [200, 300],\n",
        "    'max_depth': [17, 20, 25],\n",
        "    'max_features' : [15, 17, 20] }\n",
        "\n",
        "\n",
        "rf = RandomForestClassifier(random_state = 100)\n",
        "grid_search =  HalvingGridSearchCV(estimator = rf, param_grid = param_grid, cv = 5) #scoring=\"roc_auc\", n_jobs=-1, min_resources=\"exhaust\", factor=5, verbose = 2\n",
        "\n",
        "\n",
        "#xgb_cl = xgb.XGBClassifier(objective=\"binary:logistic\")\n",
        "#halving_cv = HalvingGridSearchCV(xgb_cl, param_grid, scoring=\"roc_auc\", n_jobs=-1, min_resources=\"exhaust\", factor=5, verbose = 2)\n",
        "#halving_cv.fit(train_features, train_labels)\n",
        "\n",
        "\n",
        "\n",
        "\n",
        "grid_search.fit(X_train,Y_train)\n",
        "y_predict = grid_search.predict(X_train)\n",
        "display(accuracy_score(Y_train, y_predict))\n",
        "\n",
        "y_predict_test = grid_search.predict(X_test)\n",
        "display(accuracy_score(Y_test, y_predict_test))"
      ]
    },
    {
      "cell_type": "code",
      "source": [],
      "metadata": {
        "id": "ypVsorklH5s9"
      },
      "execution_count": null,
      "outputs": []
    },
    {
      "cell_type": "code",
      "execution_count": null,
      "metadata": {
        "id": "22xeaLYi-cZ4"
      },
      "outputs": [],
      "source": []
    },
    {
      "cell_type": "code",
      "execution_count": null,
      "metadata": {
        "id": "IVc9wwBpAIFI"
      },
      "outputs": [],
      "source": [
        "ada1 = AdaBoostClassifier(base_estimator=rf, n_estimators=22, learning_rate=0.1, random_state= 88"
      ]
    },
    {
      "cell_type": "code",
      "execution_count": null,
      "metadata": {
        "id": "vAhMhxOR-cXc"
      },
      "outputs": [],
      "source": [
        "voting = VotingClassifier(estimators = [('RF', rf), ('AdaBoost', ada1)] , voting = 'hard')\n",
        "voting.fit(X_train, Y_train)\n",
        "\n",
        "display(accuracy_score(Y_train, voting.predict(X_train)))\n",
        "display(accuracy_score(Y_test, voting.predict(X_test)))"
      ]
    },
    {
      "cell_type": "code",
      "execution_count": null,
      "metadata": {
        "id": "-5ZkqQcl-cVg"
      },
      "outputs": [],
      "source": []
    },
    {
      "cell_type": "code",
      "execution_count": null,
      "metadata": {
        "id": "uCB_7LbT-cTQ"
      },
      "outputs": [],
      "source": []
    },
    {
      "cell_type": "code",
      "execution_count": null,
      "metadata": {
        "id": "M95EsSNF-cQv"
      },
      "outputs": [],
      "source": [
        "\n",
        "\n",
        "dTree = DecisionTreeClassifier(random_state =9, max_depth=15)\n",
        "dTree1 = DecisionTreeClassifier(random_state =9, max_depth=15, min_samples_split= 75, min_samples_leaf = 15)\n",
        "rf = RandomForestClassifier(n_estimators=220, max_depth= 20, max_features= 15, random_state = 100)\n",
        "rf1 = RandomForestClassifier(n_estimators=100, random_state = 100)\n",
        "bgg = BaggingClassifier(random_state=5)\n",
        "bgg1 = BaggingClassifier(base_estimator=dTree, n_estimators=50, random_state=500, max_features= 10)\n",
        "grad = GradientBoostingClassifier(random_state= 3000, learning_rate=0.1, n_estimators=100)\n",
        "ada1 = AdaBoostClassifier(base_estimator=rf, n_estimators=22, learning_rate=0.1, random_state= 88)\n",
        "ada2 = AdaBoostClassifier(base_estimator=dTree, n_estimators=20, learning_rate=0.1, random_state= 88)\n",
        "gb = GaussianNB()\n",
        "lr = LogisticRegression(random_state= 100, penalty='l2', tol=0.0001)\n",
        "lr1 = LogisticRegression(random_state= 70, penalty='l1', solver = 'saga', tol=0.0001)\n",
        "#clt = SVC(gamma = 0.25, C = 2)\n",
        "\n",
        "model = [dTree, dTree1, rf, rf1, bgg, bgg1, grad, ada1, ada2, gb, lr, lr1]"
      ]
    },
    {
      "cell_type": "code",
      "execution_count": null,
      "metadata": {
        "id": "tloTSE7G-cMw"
      },
      "outputs": [],
      "source": [
        "model.fit(x,y)\n"
      ]
    },
    {
      "cell_type": "code",
      "execution_count": null,
      "metadata": {
        "id": "84cFnDjM-cJQ"
      },
      "outputs": [],
      "source": [
        "  y_predict = i.predict(X_train)\n",
        "    display(accuracy_score(Y_train, y_predict))"
      ]
    },
    {
      "cell_type": "code",
      "execution_count": null,
      "metadata": {
        "id": "qrydj1Af-cG4"
      },
      "outputs": [],
      "source": []
    },
    {
      "cell_type": "markdown",
      "metadata": {
        "id": "hlqrQPtAirFW"
      },
      "source": [
        "##Submission Dataset"
      ]
    },
    {
      "cell_type": "code",
      "execution_count": null,
      "metadata": {
        "colab": {
          "base_uri": "https://localhost:8080/"
        },
        "id": "Zh3bOwoU5g8-",
        "outputId": "5f456aea-b751-443a-b5a4-5c7590fed2c0"
      },
      "outputs": [
        {
          "output_type": "execute_result",
          "data": {
            "text/plain": [
              "(35602, 23)"
            ]
          },
          "metadata": {},
          "execution_count": 22
        }
      ],
      "source": [
        "#this is sometimes required if last cell errors\n",
        "Test_df = Test_df.drop(['Overall_Experience'], axis=1)\n",
        "Test_df.shape"
      ]
    },
    {
      "cell_type": "code",
      "execution_count": null,
      "metadata": {
        "colab": {
          "base_uri": "https://localhost:8080/"
        },
        "id": "KS2K9zz01FPj",
        "outputId": "7c4ab2c9-5df3-4bf7-c036-237362000381"
      },
      "outputs": [
        {
          "name": "stdout",
          "output_type": "stream",
          "text": [
            "n_iterations: 1\n",
            "n_required_iterations: 1\n",
            "n_possible_iterations: 1\n",
            "min_resources_: 94379\n",
            "max_resources_: 94379\n",
            "aggressive_elimination: False\n",
            "factor: 5\n",
            "----------\n",
            "iter: 0\n",
            "n_candidates: 1\n",
            "n_resources: 94379\n",
            "Fitting 5 folds for each of 1 candidates, totalling 5 fits\n"
          ]
        },
        {
          "data": {
            "text/plain": [
              "HalvingGridSearchCV(estimator=XGBClassifier(), factor=5, n_jobs=-1,\n",
              "                    param_grid={'bootstrap': [True], 'max_depth': [500],\n",
              "                                'max_features': ['sqrt'],\n",
              "                                'min_samples_leaf': [2],\n",
              "                                'min_samples_split': [10],\n",
              "                                'n_estimators': [400]},\n",
              "                    scoring='roc_auc', verbose=2)"
            ]
          },
          "execution_count": 53,
          "metadata": {},
          "output_type": "execute_result"
        }
      ],
      "source": [
        "#fitting model on originsl training dataset instead of the training/test split\n",
        "\n",
        "model = halving_cv\n",
        "\n",
        "model.fit(x,y)"
      ]
    },
    {
      "cell_type": "code",
      "execution_count": null,
      "metadata": {
        "colab": {
          "base_uri": "https://localhost:8080/",
          "height": 455
        },
        "id": "0C7GXu8Z2A58",
        "outputId": "b5a112f7-44e1-4320-b44e-d8a6aabfda33"
      },
      "outputs": [
        {
          "data": {
            "text/html": [
              "\n",
              "  <div id=\"df-99cab54a-e54e-48c3-a759-3aa09d5baa35\">\n",
              "    <div class=\"colab-df-container\">\n",
              "      <div>\n",
              "<style scoped>\n",
              "    .dataframe tbody tr th:only-of-type {\n",
              "        vertical-align: middle;\n",
              "    }\n",
              "\n",
              "    .dataframe tbody tr th {\n",
              "        vertical-align: top;\n",
              "    }\n",
              "\n",
              "    .dataframe thead th {\n",
              "        text-align: right;\n",
              "    }\n",
              "</style>\n",
              "<table border=\"1\" class=\"dataframe\">\n",
              "  <thead>\n",
              "    <tr style=\"text-align: right;\">\n",
              "      <th></th>\n",
              "      <th>Overall_Experience</th>\n",
              "    </tr>\n",
              "    <tr>\n",
              "      <th>ID</th>\n",
              "      <th></th>\n",
              "    </tr>\n",
              "  </thead>\n",
              "  <tbody>\n",
              "    <tr>\n",
              "      <th>99900001</th>\n",
              "      <td>1.0</td>\n",
              "    </tr>\n",
              "    <tr>\n",
              "      <th>99900002</th>\n",
              "      <td>1.0</td>\n",
              "    </tr>\n",
              "    <tr>\n",
              "      <th>99900003</th>\n",
              "      <td>1.0</td>\n",
              "    </tr>\n",
              "    <tr>\n",
              "      <th>99900004</th>\n",
              "      <td>0.0</td>\n",
              "    </tr>\n",
              "    <tr>\n",
              "      <th>99900005</th>\n",
              "      <td>1.0</td>\n",
              "    </tr>\n",
              "    <tr>\n",
              "      <th>...</th>\n",
              "      <td>...</td>\n",
              "    </tr>\n",
              "    <tr>\n",
              "      <th>99935598</th>\n",
              "      <td>0.0</td>\n",
              "    </tr>\n",
              "    <tr>\n",
              "      <th>99935599</th>\n",
              "      <td>1.0</td>\n",
              "    </tr>\n",
              "    <tr>\n",
              "      <th>99935600</th>\n",
              "      <td>0.0</td>\n",
              "    </tr>\n",
              "    <tr>\n",
              "      <th>99935601</th>\n",
              "      <td>1.0</td>\n",
              "    </tr>\n",
              "    <tr>\n",
              "      <th>99935602</th>\n",
              "      <td>0.0</td>\n",
              "    </tr>\n",
              "  </tbody>\n",
              "</table>\n",
              "<p>35602 rows × 1 columns</p>\n",
              "</div>\n",
              "      <button class=\"colab-df-convert\" onclick=\"convertToInteractive('df-99cab54a-e54e-48c3-a759-3aa09d5baa35')\"\n",
              "              title=\"Convert this dataframe to an interactive table.\"\n",
              "              style=\"display:none;\">\n",
              "        \n",
              "  <svg xmlns=\"http://www.w3.org/2000/svg\" height=\"24px\"viewBox=\"0 0 24 24\"\n",
              "       width=\"24px\">\n",
              "    <path d=\"M0 0h24v24H0V0z\" fill=\"none\"/>\n",
              "    <path d=\"M18.56 5.44l.94 2.06.94-2.06 2.06-.94-2.06-.94-.94-2.06-.94 2.06-2.06.94zm-11 1L8.5 8.5l.94-2.06 2.06-.94-2.06-.94L8.5 2.5l-.94 2.06-2.06.94zm10 10l.94 2.06.94-2.06 2.06-.94-2.06-.94-.94-2.06-.94 2.06-2.06.94z\"/><path d=\"M17.41 7.96l-1.37-1.37c-.4-.4-.92-.59-1.43-.59-.52 0-1.04.2-1.43.59L10.3 9.45l-7.72 7.72c-.78.78-.78 2.05 0 2.83L4 21.41c.39.39.9.59 1.41.59.51 0 1.02-.2 1.41-.59l7.78-7.78 2.81-2.81c.8-.78.8-2.07 0-2.86zM5.41 20L4 18.59l7.72-7.72 1.47 1.35L5.41 20z\"/>\n",
              "  </svg>\n",
              "      </button>\n",
              "      \n",
              "  <style>\n",
              "    .colab-df-container {\n",
              "      display:flex;\n",
              "      flex-wrap:wrap;\n",
              "      gap: 12px;\n",
              "    }\n",
              "\n",
              "    .colab-df-convert {\n",
              "      background-color: #E8F0FE;\n",
              "      border: none;\n",
              "      border-radius: 50%;\n",
              "      cursor: pointer;\n",
              "      display: none;\n",
              "      fill: #1967D2;\n",
              "      height: 32px;\n",
              "      padding: 0 0 0 0;\n",
              "      width: 32px;\n",
              "    }\n",
              "\n",
              "    .colab-df-convert:hover {\n",
              "      background-color: #E2EBFA;\n",
              "      box-shadow: 0px 1px 2px rgba(60, 64, 67, 0.3), 0px 1px 3px 1px rgba(60, 64, 67, 0.15);\n",
              "      fill: #174EA6;\n",
              "    }\n",
              "\n",
              "    [theme=dark] .colab-df-convert {\n",
              "      background-color: #3B4455;\n",
              "      fill: #D2E3FC;\n",
              "    }\n",
              "\n",
              "    [theme=dark] .colab-df-convert:hover {\n",
              "      background-color: #434B5C;\n",
              "      box-shadow: 0px 1px 3px 1px rgba(0, 0, 0, 0.15);\n",
              "      filter: drop-shadow(0px 1px 2px rgba(0, 0, 0, 0.3));\n",
              "      fill: #FFFFFF;\n",
              "    }\n",
              "  </style>\n",
              "\n",
              "      <script>\n",
              "        const buttonEl =\n",
              "          document.querySelector('#df-99cab54a-e54e-48c3-a759-3aa09d5baa35 button.colab-df-convert');\n",
              "        buttonEl.style.display =\n",
              "          google.colab.kernel.accessAllowed ? 'block' : 'none';\n",
              "\n",
              "        async function convertToInteractive(key) {\n",
              "          const element = document.querySelector('#df-99cab54a-e54e-48c3-a759-3aa09d5baa35');\n",
              "          const dataTable =\n",
              "            await google.colab.kernel.invokeFunction('convertToInteractive',\n",
              "                                                     [key], {});\n",
              "          if (!dataTable) return;\n",
              "\n",
              "          const docLinkHtml = 'Like what you see? Visit the ' +\n",
              "            '<a target=\"_blank\" href=https://colab.research.google.com/notebooks/data_table.ipynb>data table notebook</a>'\n",
              "            + ' to learn more about interactive tables.';\n",
              "          element.innerHTML = '';\n",
              "          dataTable['output_type'] = 'display_data';\n",
              "          await google.colab.output.renderOutput(dataTable, element);\n",
              "          const docLink = document.createElement('div');\n",
              "          docLink.innerHTML = docLinkHtml;\n",
              "          element.appendChild(docLink);\n",
              "        }\n",
              "      </script>\n",
              "    </div>\n",
              "  </div>\n",
              "  "
            ],
            "text/plain": [
              "          Overall_Experience\n",
              "ID                          \n",
              "99900001                 1.0\n",
              "99900002                 1.0\n",
              "99900003                 1.0\n",
              "99900004                 0.0\n",
              "99900005                 1.0\n",
              "...                      ...\n",
              "99935598                 0.0\n",
              "99935599                 1.0\n",
              "99935600                 0.0\n",
              "99935601                 1.0\n",
              "99935602                 0.0\n",
              "\n",
              "[35602 rows x 1 columns]"
            ]
          },
          "execution_count": 58,
          "metadata": {},
          "output_type": "execute_result"
        }
      ],
      "source": [
        "#run on test data and spit out 2 coloumn result df fro submission\n",
        "\n",
        "model = halving_cv\n",
        "sub = pd.DataFrame(Test_df)\n",
        "\n",
        "res = model.predict(Test_df)\n",
        "\n",
        "sub[\"Overall_Experience\"] = res #res = model.predict(df_test)\n",
        "sub_to_file = sub[[\"Overall_Experience\"]]\n",
        "sub_to_file.to_csv(\"4g.csv\", index = True)\n",
        "sub_to_file"
      ]
    },
    {
      "cell_type": "code",
      "execution_count": null,
      "metadata": {
        "id": "TPx2mr-eN4fa"
      },
      "outputs": [],
      "source": []
    }
  ],
  "metadata": {
    "colab": {
      "machine_shape": "hm",
      "provenance": [],
      "collapsed_sections": [
        "yY-ybxSHhstU",
        "F_vXt7QQiEkN",
        "vb6ACgXfP7V8",
        "hlqrQPtAirFW"
      ],
      "mount_file_id": "11fmGlyCbsWDFhTuAKBs5rCZxzxBCmy4Q",
      "authorship_tag": "ABX9TyNf6H9bkOAh6B3s2CVPvE6d",
      "include_colab_link": true
    },
    "gpuClass": "standard",
    "kernelspec": {
      "display_name": "Python 3",
      "name": "python3"
    },
    "language_info": {
      "name": "python"
    }
  },
  "nbformat": 4,
  "nbformat_minor": 0
}